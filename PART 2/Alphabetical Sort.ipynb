{
 "cells": [
  {
   "cell_type": "code",
   "execution_count": 1,
   "metadata": {
    "colab": {},
    "colab_type": "code",
    "id": "5KdGjUFBfMdF"
   },
   "outputs": [],
   "source": [
    "#ref link: https://www.hackerearth.com/practice/algorithms/sorting/counting-sort/tutorial/\n",
    "def counting_sort(lst):\n",
    "    if len(lst) < 2:\n",
    "      return lst\n",
    "    \n",
    "    hash_map_lst = [0] * (max(lst) + 1)\n",
    "\n",
    "    #create array with value as a index and frequency as a value\n",
    "    for i in  lst:\n",
    "        hash_map_lst[i] += 1\n",
    "   \n",
    "    sorted_lst = [0] * len(lst)\n",
    "    \n",
    "    #iterate through has_map_lst and pālace elements in the sorted array based on number of timems occurs\n",
    "    j = 0\n",
    "    for index,item in enumerate(hash_map_lst):\n",
    "      while item > 0:\n",
    "        sorted_lst[j] = index\n",
    "        j +=1\n",
    "        item -= 1\n",
    "    \n",
    "    return sorted_lst\n",
    "\n",
    "\n",
    "def  alphabet_sort(lst):\n",
    "    if len(lst) < 2:\n",
    "      return lst\n",
    "\n",
    "    #assign each letter a numberical value based on order in which the occur\n",
    "    all_alphabets = [\"a\", \"b\", \"c\", \"d\", \"e\", \"f\", \"g\", \"h\", \"i\", \"j\", \"k\", \"l\", \"m\", \"n\", \"o\", \"p\", \"q\", \"r\", \"s\", \"t\", \"u\", \"v\", \"w\", \"x\", \"y\", \"z\"]\n",
    "    alpha_map = {}\n",
    "    for index, item  in enumerate(all_alphabets):\n",
    "        alpha_map[item] = index\n",
    "\n",
    "    #get corresponding numerical value of the input list and use value as an index of of the numberical values\n",
    "    temp_map_lst = {}\n",
    "    num_lst = []\n",
    "    for item in lst:\n",
    "        temp_map_lst[alpha_map[item]] = item\n",
    "        num_lst.append(alpha_map[item])\n",
    "\n",
    "    #do numerical sorting using counting sort function\n",
    "    sorted_num_lst = counting_sort(num_lst)\n",
    "\n",
    "    #replace the numbers with corresponding letters\n",
    "    sorted_lst = []\n",
    "    for item in sorted_num_lst:\n",
    "        sorted_lst.append(temp_map_lst[item])\n",
    "    \n",
    "    return sorted_lst\n"
   ]
  },
  {
   "cell_type": "code",
   "execution_count": 2,
   "metadata": {
    "colab": {
     "base_uri": "https://localhost:8080/",
     "height": 34
    },
    "colab_type": "code",
    "id": "GnC1SjCvfPbs",
    "outputId": "8c29998b-89bb-489f-9c5c-9d1c1d133e24"
   },
   "outputs": [
    {
     "data": {
      "text/plain": [
       "[1, 2, 3, 4, 5, 5, 6]"
      ]
     },
     "execution_count": 2,
     "metadata": {},
     "output_type": "execute_result"
    }
   ],
   "source": [
    "counting_sort([5,6, 5, 4, 3, 1,2])"
   ]
  },
  {
   "cell_type": "code",
   "execution_count": 3,
   "metadata": {
    "colab": {
     "base_uri": "https://localhost:8080/",
     "height": 34
    },
    "colab_type": "code",
    "id": "aUkRJx4NfU_M",
    "outputId": "e4e45053-5213-4ec6-e9f3-839b27c58a9c"
   },
   "outputs": [
    {
     "data": {
      "text/plain": [
       "['a', 'a', 'b', 'b', 'c']"
      ]
     },
     "execution_count": 3,
     "metadata": {},
     "output_type": "execute_result"
    }
   ],
   "source": [
    "alphabet_sort([\"b\", \"c\", \"a\", \"a\", \"b\"])"
   ]
  },
  {
   "cell_type": "code",
   "execution_count": 4,
   "metadata": {
    "colab": {},
    "colab_type": "code",
    "id": "LkGW8xc4cz2_"
   },
   "outputs": [],
   "source": [
    "#word sorting \n",
    "def word_sort(lst):\n",
    "  N = len(lst)\n",
    "  first_index = 0\n",
    "  second_index = 1\n",
    "\n",
    "  while second_index < N:\n",
    "    first_val = lst[first_index]\n",
    "    second_val = lst[second_index]\n",
    "\n",
    "    if greater(first_val, second_val):\n",
    "      lst[first_index] = second_val\n",
    "      lst[second_index] = first_val\n",
    "    \n",
    "    first_index +=1\n",
    "    second_index +=1\n",
    " \n",
    "  return lst\n",
    "\n",
    "def greater(a, b):\n",
    "  if a.lower() > b.lower():\n",
    "    return True\n",
    "  else: \n",
    "    return False"
   ]
  },
  {
   "cell_type": "code",
   "execution_count": 5,
   "metadata": {
    "colab": {
     "base_uri": "https://localhost:8080/",
     "height": 34
    },
    "colab_type": "code",
    "id": "LXXbJ3bxfZ00",
    "outputId": "314fd32e-9c47-4500-ff69-5c658a44d8de"
   },
   "outputs": [
    {
     "data": {
      "text/plain": [
       "['ashok', 'baarun', 'balooncgd', 'cgd']"
      ]
     },
     "execution_count": 5,
     "metadata": {},
     "output_type": "execute_result"
    }
   ],
   "source": [
    "word_sort([\"ashok\",\"cgd\", \"ba\" \"arun\", \"baloon\" \"cgd\"])"
   ]
  },
  {
   "cell_type": "code",
   "execution_count": null,
   "metadata": {
    "colab": {},
    "colab_type": "code",
    "id": "50YofzkJMild"
   },
   "outputs": [],
   "source": [
    "\n"
   ]
  },
  {
   "cell_type": "code",
   "execution_count": 0,
   "metadata": {
    "colab": {},
    "colab_type": "code",
    "id": "s23FqKuQNJ-M"
   },
   "outputs": [],
   "source": []
  },
  {
   "cell_type": "code",
   "execution_count": 0,
   "metadata": {
    "colab": {},
    "colab_type": "code",
    "id": "1iPRA8fENaDa"
   },
   "outputs": [],
   "source": []
  }
 ],
 "metadata": {
  "colab": {
   "name": "sorting.ipynb",
   "provenance": []
  },
  "kernelspec": {
   "display_name": "Python 3",
   "language": "python",
   "name": "python3"
  },
  "language_info": {
   "codemirror_mode": {
    "name": "ipython",
    "version": 3
   },
   "file_extension": ".py",
   "mimetype": "text/x-python",
   "name": "python",
   "nbconvert_exporter": "python",
   "pygments_lexer": "ipython3",
   "version": "3.7.4"
  }
 },
 "nbformat": 4,
 "nbformat_minor": 1
}
