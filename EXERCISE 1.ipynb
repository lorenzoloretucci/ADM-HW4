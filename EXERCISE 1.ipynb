{
 "cells": [
  {
   "cell_type": "code",
   "execution_count": 1,
   "metadata": {},
   "outputs": [],
   "source": [
    "import math\n",
    "from tqdm import tqdm\n",
    "from random import *\n",
    "import time"
   ]
  },
  {
   "cell_type": "code",
   "execution_count": 55,
   "metadata": {},
   "outputs": [],
   "source": [
    "n=100000000 #len(psw1)\n",
    "p=0.01 #probability of false positive\n",
    "m = -(n * math.log(p))/(math.log(2)**2) #size of bloomearray\n",
    "k = (m/n) * math.log(2) #number of hash function\n",
    "bloomfilter=[False for i in range(int(m))]\n",
    "len_b=len(bloomfilter) #len of boom filter"
   ]
  },
  {
   "cell_type": "code",
   "execution_count": 37,
   "metadata": {},
   "outputs": [],
   "source": [
    "#here we define hash functions\n",
    "def hash_1(string, bloomfiltersize):\n",
    "    trunks = 0\n",
    "    for pos in range(len(string)):\n",
    "        trunks = ord(string[pos])\n",
    "    return int(trunks%bloomfiltersize)\n",
    "\n",
    "def hash_2(string, bloomfiltersize):\n",
    "    myssketa = 1\n",
    "    for i in range(len(string)):\n",
    "        myssketa = myssketa+ord(string[i])**3\n",
    "    return int(myssketa % bloomfiltersize)\n",
    "\n",
    "\n",
    "def hash_3(string, bloomfiltersize):\n",
    "    santuzzo=1\n",
    "    for i in range(len(string)):\n",
    "        santuzzo=santuzzo-ord(string[i])*2\n",
    "    return int(santuzzo % bloomfiltersize)\n",
    "\n",
    "def hash_4(string, bloomfiltersize):\n",
    "    majinbuu=1\n",
    "    for i in range(len(string)):\n",
    "        majinbuu=majinbuu*ord(string[i])\n",
    "    return int(majinbuu% bloomfiltersize)\n",
    "\n",
    "def hash_5(string,bloomfiltersize):\n",
    "    for i in range(len(string)):\n",
    "        VegetaSuperSayan=1\n",
    "        VegetaSuperSayan=VegetaSuperSayan*ord(string[i])*3\n",
    "    return int(VegetaSuperSayan%bloomfiltersize)\n",
    "\n",
    "def hash_6(string,bloomfiltersize):\n",
    "    for i in range(len(string)):\n",
    "        MioCugginoHaGokuDi8livello=0\n",
    "        MioCugginoHaGokuDi8livello=MioCugginoHaGokuDi8livello+ord(string[i])**2\n",
    "    return int(MioCugginoHaGokuDi8livello%bloomfiltersize)\n",
    "\n"
   ]
  },
  {
   "cell_type": "code",
   "execution_count": 63,
   "metadata": {},
   "outputs": [],
   "source": [
    "from tqdm import tqdm_notebook #library which show the progess bar for a loop \n",
    "def bloomfiltermethod(path1,path2):\n",
    "    start=time.time()\n",
    "    \n",
    "\n",
    "    openfile=open(path1,'r')#open passwords1 file \n",
    "    for l in tqdm_notebook(openfile,desc='Add Element',leave=False): \n",
    "        string=openfile.readline()[:20] #take as input password inside the file \n",
    "        #apply hash function defined above\n",
    "        bloomfilter[hash_1(string,len_b)] = True\n",
    "        bloomfilter[hash_2(string,len_b)] = True\n",
    "        bloomfilter[hash_3(string,len_b)] = True\n",
    "        bloomfilter[hash_4(string,len_b)] = True              \n",
    "        bloomfilter[hash_5(string,len_b)] = True\n",
    "        bloomfilter[hash_6(string,len_b)] = True\n",
    "    openfile.close()\n",
    "    \n",
    "\n",
    "\n",
    "    openfile=open(path2,'r')#open passwords2 file\n",
    "    for l in tqdm_notebook(openfile, desc='Check Element', leave=False):\n",
    "        count_no=0\n",
    "        count_yes=0\n",
    "        string_p=openfile.readline()[:20]#take in input each password, apply hash function\n",
    "        #check if any of bits is inside the filter using the same hash function\n",
    "        digest_1= hash_1(string_p,len_b) \n",
    "        if bloomfilter[digest_1] == False:\n",
    "              count_no=count_no+1\n",
    "        elif bloomfilter[digest_1] == True:\n",
    "             count_yes=count_yes+1\n",
    "        \n",
    "        digest_2=hash_2(string_p,len_b)\n",
    "        if bloomfilter[digest_2] == False:\n",
    "            count_no=count_no+1\n",
    "        elif bloomfilter[digest_2] == True:\n",
    "             count_yes=count_yes+1\n",
    "\n",
    "        digest_3=hash_3(string_p,len_b)\n",
    "        if bloomfilter[digest_3] == False:\n",
    "             count_no=count_no+1\n",
    "        elif bloomfilter[digest_3] == True:\n",
    "             count_yes=count_yes+1\n",
    "\n",
    "        digest_4=hash_4(string_p,len_b)\n",
    "        if bloomfilter[digest_4] == False:\n",
    "            count_no=count_no+1\n",
    "        elif bloomfilter[digest_4] == True:\n",
    "             count_yes=count_yes+1\n",
    "\n",
    "        digest_5=hash_5(string_p,len_b)\n",
    "        if bloomfilter[digest_5] == False:\n",
    "            count_no=count_no+1\n",
    "        elif bloomfilter[digest_5] == True:\n",
    "             count_yes=count_yes+1\n",
    "\n",
    "        digest_6=hash_6(string_p,len_b)\n",
    "        if bloomfilter[digest_6] == False:\n",
    "            count_no=count_no+1\n",
    "        elif bloomfilter[digest_6] == True:\n",
    "             count_yes=count_yes+1\n",
    "    openfile.close()\n",
    "    end=time.time()\n",
    "    print('Number of hash function used: '+ str(int(k)))\n",
    "    print('Number of duplicate found: '+ str(count_yes))\n",
    "    print('Probability of false positive: '+ str(p))\n",
    "    print('Execution time: ', end-start)"
   ]
  },
  {
   "cell_type": "code",
   "execution_count": 64,
   "metadata": {},
   "outputs": [],
   "source": [
    "path1='passwords1.txt'\n",
    "path2='passwords2.txt'"
   ]
  },
  {
   "cell_type": "code",
   "execution_count": 65,
   "metadata": {},
   "outputs": [
    {
     "data": {
      "application/vnd.jupyter.widget-view+json": {
       "model_id": "",
       "version_major": 2,
       "version_minor": 0
      },
      "text/plain": [
       "HBox(children=(IntProgress(value=1, bar_style='info', description='Add Element', max=1, style=ProgressStyle(de…"
      ]
     },
     "metadata": {},
     "output_type": "display_data"
    },
    {
     "data": {
      "application/vnd.jupyter.widget-view+json": {
       "model_id": "",
       "version_major": 2,
       "version_minor": 0
      },
      "text/plain": [
       "HBox(children=(IntProgress(value=1, bar_style='info', description='Check Element', max=1, style=ProgressStyle(…"
      ]
     },
     "metadata": {},
     "output_type": "display_data"
    },
    {
     "name": "stdout",
     "output_type": "stream",
     "text": [
      "Number of hash function used: 6\n",
      "Number of duplicate found: 5\n",
      "Probability of false positive: 0.01\n",
      "Execution time:  1431.5508210659027\n"
     ]
    }
   ],
   "source": [
    "bloomfiltermethod(path1,path2)"
   ]
  }
 ],
 "metadata": {
  "kernelspec": {
   "display_name": "Python 3",
   "language": "python",
   "name": "python3"
  },
  "language_info": {
   "codemirror_mode": {
    "name": "ipython",
    "version": 3
   },
   "file_extension": ".py",
   "mimetype": "text/x-python",
   "name": "python",
   "nbconvert_exporter": "python",
   "pygments_lexer": "ipython3",
   "version": "3.6.8"
  }
 },
 "nbformat": 4,
 "nbformat_minor": 2
}
